{
 "cells": [
  {
   "cell_type": "code",
   "execution_count": 1,
   "metadata": {},
   "outputs": [],
   "source": [
    "# import numpy, pyplot and pandas\n",
    "import numpy as np\n",
    "import matplotlib.pyplot as plt\n",
    "import pandas as pd"
   ]
  },
  {
   "cell_type": "code",
   "execution_count": 2,
   "metadata": {},
   "outputs": [],
   "source": [
    "# Load pred data from PDG fits\n",
    "SigmaGammaP_pred = pd.read_csv(\"sigma_gamma_proton_pred.txt\", sep = '\\t')\n",
    "# Load exp data\n",
    "exp_data_PDG_W_gt_461 = pd.read_csv(\"SigmaGammaP_PDG_data_W_gt_461.txt\", sep = '\\t')"
   ]
  },
  {
   "cell_type": "code",
   "execution_count": 3,
   "metadata": {},
   "outputs": [],
   "source": [
    "def plotExpDataVsPred(exp_data, pred_data, label, output_file):\n",
    "    \"\"\"\n",
    "        Makes a plot where the experimental points can be compared\n",
    "        with the predictions of the best fit to those points.\n",
    "        exp_data : Pandas data frame with the experimental points\n",
    "        pred_data : Pandas data frame with the best fit predicted points\n",
    "        label : information about the Pomeron kernel used in the fit\n",
    "        output_file : name of the file of the saved plot\n",
    "    \"\"\"\n",
    "    plt.errorbar(exp_data[\"W(GeV)\"], exp_data[\"sigma(mub)\"], \n",
    "                 xerr = [exp_data[\"WErrorm\"], exp_data[\"WErrorp\"]], \n",
    "                 yerr = [exp_data[\"Errorm\"], exp_data[\"Errorp\"]], fmt = \"o\", label = \"exp. data\")\n",
    "    plt.plot(pred_data[\"W\"], pred_data[\"Pred\"], label = label)\n",
    "    plt.ylabel(r'$\\sigma(\\mu b)$')\n",
    "    plt.xlabel(r'$\\sqrt{s}(GeV)$')\n",
    "    plt.xscale(\"log\")\n",
    "    plt.title(r'$\\sigma$'+\" vs \" + r'$\\sqrt{s}$')\n",
    "    plt.legend()\n",
    "    plt.ylim(0, 300)\n",
    "    plt.savefig(output_file)\n",
    "    plt.show()"
   ]
  },
  {
   "cell_type": "code",
   "execution_count": 4,
   "metadata": {},
   "outputs": [
    {
     "data": {
      "image/png": "[encoded data removed]",
      "text/plain": [
       "<Figure size 432x288 with 1 Axes>"
      ]
     },
     "metadata": {
      "needs_background": "light"
     },
     "output_type": "display_data"
    }
   ],
   "source": [
    "# Plot the data\n",
    "plotExpDataVsPred(exp_data_PDG_W_gt_461, SigmaGammaP_pred, \"IHQCD\", \"SigmaGammaP_vs_W.pdf\")"
   ]
  },
  {
   "cell_type": "code",
   "execution_count": null,
   "metadata": {},
   "outputs": [],
   "source": []
  }
 ],
 "metadata": {
  "kernelspec": {
   "display_name": "Python 3",
   "language": "python",
   "name": "python3"
  },
  "language_info": {
   "codemirror_mode": {
    "name": "ipython",
    "version": 3
   },
   "file_extension": ".py",
   "mimetype": "text/x-python",
   "name": "python",
   "nbconvert_exporter": "python",
   "pygments_lexer": "ipython3",
   "version": "3.7.4"
  }
 },
 "nbformat": 4,
 "nbformat_minor": 2
}
