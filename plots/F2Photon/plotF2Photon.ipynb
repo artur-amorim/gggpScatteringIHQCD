{
 "cells": [
  {
   "cell_type": "code",
   "execution_count": 1,
   "metadata": {},
   "outputs": [],
   "source": [
    "# import pandas, numpy and matplotlib\n",
    "import pandas as pd\n",
    "import numpy as np\n",
    "import matplotlib.pyplot as plt"
   ]
  },
  {
   "cell_type": "code",
   "execution_count": 2,
   "metadata": {},
   "outputs": [],
   "source": [
    "# Load predictions\n",
    "F2_pred_data = pd.read_csv(\"F2Photon_pred.txt\", sep = '\\t')\n",
    "# Load experimental data\n",
    "F2_exp_data = pd.read_csv(\"F2Photon_data.txt\", sep = '\\t')"
   ]
  },
  {
   "cell_type": "code",
   "execution_count": 3,
   "metadata": {},
   "outputs": [],
   "source": [
    "def plotF2Photon(f2_pred, f2_data, label = \"\"):\n",
    "    \"\"\"\n",
    "        Plots the holographic predictions of F2^\\gamma vs the experimental points\n",
    "        for each value of Q^2\n",
    "    \"\"\"\n",
    "    Q2s_list = f2_pred.Q2.unique()\n",
    "    n_rows = round(len(Q2s_list)/2)+1\n",
    "\n",
    "    # Start the plot\n",
    "    fig, ax = plt.subplots(n_rows,2,sharex=False, sharey=False, figsize = (12,10))\n",
    "    fig.suptitle(r'$F_2^{\\gamma}(x,Q^2)$ vs x')\n",
    "    for i in range(n_rows * 2):\n",
    "        if i == (n_rows*2-1):\n",
    "            break\n",
    "        figp = plt.subplot(n_rows,2,i+1)\n",
    "        # Plot the predicted values\n",
    "        x_values = np.array(f2_pred[f2_pred.Q2 == Q2s_list[i]].x)\n",
    "        struct_func_values = np.array(f2_pred[f2_pred.Q2 == Q2s_list[i]].Pred)\n",
    "        plt.plot(x_values, struct_func_values, \"b\", label = r'$Q^2 = $'+str(Q2s_list[i]))\n",
    "        # plot the experimental points\n",
    "        x_values = np.array(f2_data[f2_data[\"Q**2 [GEV**2]\"] == Q2s_list[i]][\"X\"])\n",
    "        struct_func_values = np.array(f2_data[f2_data[\"Q**2 [GEV**2]\"] == Q2s_list[i]][\"F2/ALPHAE\"])\n",
    "        struct_func_errors = np.array(f2_data[f2_data[\"Q**2 [GEV**2]\"] == Q2s_list[i]][\"error\"])\n",
    "        plt.errorbar(x_values, struct_func_values, struct_func_errors, fmt=\"bo\", markersize=1)\n",
    "        plt.xlabel(\"x\")\n",
    "        plt.xscale(\"log\")\n",
    "        figp.legend()\n",
    "    fig.delaxes(ax[n_rows-1][1])\n",
    "    l  = 0.05  # the left side of the subplots of the figure\n",
    "    r = 0.975    # the right side of the subplots of the figure\n",
    "    b = 0.05   # the bottom of the subplots of the figure\n",
    "    t = 0.95      # the top of the subplots of the figure\n",
    "    ws = 0.1   # the amount of width reserved for blank space between subplots\n",
    "    hs = 0.3  # the amount of height reserved for white space between subplots\n",
    "    plt.subplots_adjust(left = l, right = r, top = t, bottom = b, wspace = ws, hspace = hs)\n",
    "    plt.legend()\n",
    "    #fig.tight_layout()\n",
    "    plt.savefig(\"F2Photon\"+label+\".pdf\", dpi = 100)\n",
    "    plt.close()"
   ]
  },
  {
   "cell_type": "code",
   "execution_count": 4,
   "metadata": {},
   "outputs": [],
   "source": [
    "plotF2Photon(F2_pred_data, F2_exp_data, \"\")"
   ]
  }
 ],
 "metadata": {
  "kernelspec": {
   "display_name": "Python 3",
   "language": "python",
   "name": "python3"
  },
  "language_info": {
   "codemirror_mode": {
    "name": "ipython",
    "version": 3
   },
   "file_extension": ".py",
   "mimetype": "text/x-python",
   "name": "python",
   "nbconvert_exporter": "python",
   "pygments_lexer": "ipython3",
   "version": "3.7.4"
  }
 },
 "nbformat": 4,
 "nbformat_minor": 2
}
