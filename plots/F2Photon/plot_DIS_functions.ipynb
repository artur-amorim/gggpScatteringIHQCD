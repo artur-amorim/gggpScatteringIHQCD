{
 "cells": [
  {
   "cell_type": "code",
   "execution_count": 1,
   "metadata": {},
   "outputs": [],
   "source": [
    "import pandas as pd\n",
    "import numpy as np\n",
    "import matplotlib.pyplot as plt"
   ]
  },
  {
   "cell_type": "code",
   "execution_count": 2,
   "metadata": {},
   "outputs": [],
   "source": [
    "def plotF2(F2_pred_data, F2_exp_data, coupling = \"\"):\n",
    "    \"\"\"\n",
    "        F2 - Pandas Data Frame\n",
    "        struct_func - string\n",
    "        Creates a plot of the data contained in F2_data.\n",
    "        First we find the unique values of Q^2 in F2_data.\n",
    "        After that for each value of Q2 we add to our plot\n",
    "        struct_func(x, Q2) vs x.\n",
    "        struct_func is a string that helps us to insert the\n",
    "        right lebels in our plot.\n",
    "        Assumpitions: F2_pred_data is a data frame with 3 columns, Q2, x and Pred\n",
    "        where in Pred we have the values of the structure function.\n",
    "        F2_exp_data is a data frame with 4 columns, ExpVal, Q2, x, and ExpErr\n",
    "    \"\"\"\n",
    "    x_min = 0.0008\n",
    "    x_max = 0.05\n",
    "    # Find unique values of Q^2 in dis_data\n",
    "    Q2s = F2_pred_data.Q2.unique()     # array with the unique Q^2 values assumed it is the same for exp data\n",
    "    n = len(Q2s)                   # Number of different Q^2 values\n",
    "    # Create plot\n",
    "    plt.title(r'$F_2(x,Q^2)/\\alpha(Q^2)$ vs x')\n",
    "    plt.xlabel(\"x\")\n",
    "    plt.xscale(\"log\")\n",
    "    plt.xlim(x_min, x_max)\n",
    "    plt.ylabel(r'$F_2(x,Q^2)/\\alpha(Q^2)$')\n",
    "    #plt.yscale(\"log\")\n",
    "    # Iterate over Q2s\n",
    "    colours = [\"r\",\"b\",\"g\"]\n",
    "    labels = []\n",
    "    for i in range(n) :\n",
    "        # plot the predicted points\n",
    "        x_values = np.array(F2_pred_data[F2_pred_data.Q2 == Q2s[i]].x)\n",
    "        struct_func_values = np.array(F2_pred_data[F2_pred_data.Q2 == Q2s[i]].F2)\n",
    "        plt.plot(x_values, struct_func_values, colours[i%3], linewidth = 0.5)\n",
    "        labels.append(r'$Q^2 = $' + str(Q2s[i]) + r'$GeV^2$')\n",
    "        #x_annotate = 0.8 * x_values.min()\n",
    "        #y_annotate = struct_func_values.max()\n",
    "        # plot the experimental points\n",
    "        x_values = np.array(F2_exp_data[F2_exp_data[\"Q**2 [GEV**2]\"] == Q2s[i]].X)\n",
    "        struct_func_values = np.array(F2_exp_data[F2_exp_data[\"Q**2 [GEV**2]\"] == Q2s[i]][\"F2/ALPHAE\"])\n",
    "        struct_func_errors = np.array(F2_exp_data[F2_exp_data[\"Q**2 [GEV**2]\"] == Q2s[i]].error)\n",
    "        pt_fmt = colours[i%3] + \"o\"\n",
    "        plt.errorbar(x_values, struct_func_values, struct_func_errors, fmt=pt_fmt, markersize=1)\n",
    "        #text = plt.annotate(str(Q2s[i]), xy = (x_annotate, y_annotate),\n",
    "        #                                            xytext=(x_annotate, y_annotate), color = colours[i%3])\n",
    "        #text.set_fontsize(6)\n",
    "        plt.legend(labels, frameon= False, loc = 'upper right', prop={'size': 6})\n",
    "    # Show the plot\n",
    "    plt.ylim(0.01, 0.75)\n",
    "    plt.savefig(\"F2\"+coupling+\".pdf\", dpi = 100)\n",
    "    plt.close()"
   ]
  },
  {
   "cell_type": "code",
   "execution_count": 3,
   "metadata": {},
   "outputs": [],
   "source": [
    "# Load MC predicted data\n",
    "F2_data = pd.read_csv(\"F2Photon_pred.txt\", sep = '\\t')\n",
    "# Load experimental data\n",
    "F2_exp_data = pd.read_csv(\"F2_photon_xmax_0.01.txt\", sep = '\\t')\n",
    "\n",
    "# Generate plots for MC predictions\n",
    "plotF2(F2_data, F2_exp_data)"
   ]
  },
  {
   "cell_type": "code",
   "execution_count": null,
   "metadata": {},
   "outputs": [],
   "source": []
  }
 ],
 "metadata": {
  "kernelspec": {
   "display_name": "Python 3",
   "language": "python",
   "name": "python3"
  },
  "language_info": {
   "codemirror_mode": {
    "name": "ipython",
    "version": 3
   },
   "file_extension": ".py",
   "mimetype": "text/x-python",
   "name": "python",
   "nbconvert_exporter": "python",
   "pygments_lexer": "ipython3",
   "version": "3.7.4"
  }
 },
 "nbformat": 4,
 "nbformat_minor": 2
}
