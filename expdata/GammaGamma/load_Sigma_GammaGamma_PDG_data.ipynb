{
 "cells": [
  {
   "cell_type": "code",
   "execution_count": 1,
   "metadata": {},
   "outputs": [],
   "source": [
    "# import numpy, pandas and matplotlib\n",
    "import numpy as np\n",
    "import pandas as pd\n",
    "import matplotlib.pyplot as plt"
   ]
  },
  {
   "cell_type": "code",
   "execution_count": 2,
   "metadata": {},
   "outputs": [],
   "source": [
    "# First we process the raw data into a new file format that can be read easily by pandas\n",
    "f = open(\"SigmaGammaGamma_PDG_raw.txt\", \"r\")\n",
    "new_f = open(\"SigmaGammaGamma_PDG_new_raw.txt\", \"w\")\n",
    "string = f.readline()\n",
    "while string != '':\n",
    "    line_list = string.split()\n",
    "    ref_list = line_list[9:]\n",
    "    line_list = line_list[:9]\n",
    "    new_line = '\\t'.join(line_list)\n",
    "    ref_string = \" \".join(ref_list)\n",
    "    new_f.write(new_line+'\\t' + ref_string + '\\n')\n",
    "    string = f.readline()\n",
    "f.close()\n",
    "new_f.close()"
   ]
  },
  {
   "cell_type": "code",
   "execution_count": 3,
   "metadata": {},
   "outputs": [],
   "source": [
    "def loadSigmaGammaGammaData(file_name, ECM_MIN, ECM_MAX, output_file_name):\n",
    "    \"\"\"\n",
    "        Loads the PDG data contained in the file file_name.\n",
    "        Then it selects only the experimental points with\n",
    "        ECM_MIN < W < ECM_MAX.\n",
    "        Then creates an output file with the following columns\n",
    "        [\"W(GeV)\", \"WErrorp\", \"WErrorm\", \"sigma(nb)\", \"Errorp\", \"Errorm\"]\n",
    "        The Errorp and Errorm will be equal and are given by\n",
    "        sqrt(stat_error**2 + syst_error**2). The stat_error and syst_error values\n",
    "        are assumed to be the average of the corresponding plus and minus errors.\n",
    "    \"\"\"\n",
    "    # Load raw data\n",
    "    exp_data_raw = pd.read_csv(file_name, sep = '\\t')\n",
    "    condition = (exp_data_raw[\"ECM(GEV)\"] > ECM_MIN) & (exp_data_raw[\"ECM(GEV)\"] < ECM_MAX)\n",
    "    # Read ECM values as well their minimum and maximum values\n",
    "    sqrtS_vals = np.array(exp_data_raw[condition][\"ECM(GEV)\"])\n",
    "    sqrtS_min_vals = np.array(exp_data_raw[condition][\"ECM_MIN\"])\n",
    "    sqrtS_max_vals = np.array(exp_data_raw[condition][\"ECM_MAX\"])\n",
    "    sqrtS_err_plus = sqrtS_max_vals - sqrtS_vals\n",
    "    sqrtS_err_minus = sqrtS_vals - sqrtS_min_vals\n",
    "    # Read cross-section values\n",
    "    sigma_vals = np.array(exp_data_raw[condition][\"SIG(MB)\"])*10**6\n",
    "    # Compute the statistical error as the average of STA_ERR+ and STA_ERR-\n",
    "    stat_error_plus = np.array(exp_data_raw[condition][\"STA_ERR+\"])*10**6\n",
    "    stat_error_minus = np.array(exp_data_raw[condition][\"STA_ERR-\"])*10**6\n",
    "    stat_error = 0.5 * (stat_error_plus + stat_error_minus)\n",
    "    # Compute the systematic error as the average of STA_ERR+ and STA_ERR-\n",
    "    syst_error_plus = sigma_vals * np.array(exp_data_raw[condition][\"SY_ER+(PCT)\"]) / 100.0\n",
    "    syst_error_minus = sigma_vals * np.array(exp_data_raw[condition][\"SY_ER-(PCT)\"]) / 100.0\n",
    "    syst_error = 0.5 * (syst_error_plus + syst_error_minus)\n",
    "    # Compute the total error as sqrt(stat_error**2 + syst_error**2)\n",
    "    error_vals = np.sqrt(stat_error**2 + syst_error**2)\n",
    "    # Create new data frame with columns [\"sqrtS\", \"sqrtSErrorPlus\", \"sqrtSErrorMinus\", \"sigma\", \"Errorp\", \"Errorm\"]\n",
    "    exp_data = pd.DataFrame({\"W(GeV)\":sqrtS_vals, \"WErrorp\":sqrtS_err_plus, \"WErrorm\":sqrtS_err_minus,\n",
    "                        \"sigma(nb)\":sigma_vals, \"Errorp\":error_vals, \"Errorm\": error_vals})\n",
    "    exp_data.to_csv(output_file_name, sep ='\\t', index = False)"
   ]
  },
  {
   "cell_type": "code",
   "execution_count": 7,
   "metadata": {},
   "outputs": [],
   "source": [
    "# Load data with W > 0\n",
    "loadSigmaGammaGammaData(\"SigmaGammaGamma_PDG_new_raw.txt\", 0, 1000, \"SigmaGammaGamma_PDG_data.txt\")\n",
    "# Load data with W > 4\n",
    "loadSigmaGammaGammaData(\"SigmaGammaGamma_PDG_new_raw.txt\", 4, 1000, \"SigmaGammaGamma_PDG_data_W_gt_4.txt\")"
   ]
  },
  {
   "cell_type": "code",
   "execution_count": 8,
   "metadata": {},
   "outputs": [],
   "source": [
    "def plotExpData(data_file):\n",
    "    \"\"\"\n",
    "        Plots the experimental data contained in the file data_file.\n",
    "    \"\"\"\n",
    "    # Read the file\n",
    "    exp_data = pd.read_csv(data_file, sep ='\\t')\n",
    "    sqrtS_vals = np.array(exp_data[\"W(GeV)\"])\n",
    "    sigma_vals = np.array(exp_data[\"sigma(nb)\"])\n",
    "    error_vals = 0.5*(np.array(exp_data[\"Errorp\"])+np.array(exp_data[\"Errorm\"]))\n",
    "    plt.errorbar(sqrtS_vals, sigma_vals, error_vals, fmt='o', markersize=0.5)\n",
    "    plt.xlabel(r'$\\sqrt{s}$')\n",
    "    plt.ylabel(r'$\\sigma(nb)$')\n",
    "    plt.xscale(\"log\")"
   ]
  },
  {
   "cell_type": "code",
   "execution_count": 9,
   "metadata": {},
   "outputs": [
    {
     "data": {
      "image/png": "[encoded data removed]",
      "text/plain": [
       "<Figure size 432x288 with 1 Axes>"
      ]
     },
     "metadata": {
      "needs_background": "light"
     },
     "output_type": "display_data"
    }
   ],
   "source": [
    "plotExpData(\"SigmaGammaGamma_PDG_data.txt\")"
   ]
  },
  {
   "cell_type": "code",
   "execution_count": 10,
   "metadata": {},
   "outputs": [
    {
     "data": {
      "image/png": "[encoded data removed]",
      "text/plain": [
       "<Figure size 432x288 with 1 Axes>"
      ]
     },
     "metadata": {
      "needs_background": "light"
     },
     "output_type": "display_data"
    }
   ],
   "source": [
    "plotExpData(\"SigmaGammaGamma_PDG_data_W_gt_4.txt\")"
   ]
  }
 ],
 "metadata": {
  "kernelspec": {
   "display_name": "Python 3",
   "language": "python",
   "name": "python3"
  },
  "language_info": {
   "codemirror_mode": {
    "name": "ipython",
    "version": 3
   },
   "file_extension": ".py",
   "mimetype": "text/x-python",
   "name": "python",
   "nbconvert_exporter": "python",
   "pygments_lexer": "ipython3",
   "version": "3.7.4"
  }
 },
 "nbformat": 4,
 "nbformat_minor": 2
}
