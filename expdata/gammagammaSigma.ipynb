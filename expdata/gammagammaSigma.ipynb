{
 "cells": [
  {
   "cell_type": "code",
   "execution_count": 1,
   "metadata": {},
   "outputs": [],
   "source": [
    "# load pandas\n",
    "import pandas as pd\n",
    "# load pyplot\n",
    "from matplotlib import pyplot as plt\n",
    "# import zeros from numpy\n",
    "import numpy as np"
   ]
  },
  {
   "cell_type": "code",
   "execution_count": 2,
   "metadata": {},
   "outputs": [],
   "source": [
    "#Load data from L3, OPAL and TPC collaborations\n",
    "L3_data = pd.read_csv(\"gammagammaSigma_L3_raw.txt\", sep = '\\t')\n",
    "OPAL_data = pd.read_csv(\"gammagammaSigma_OPAL_raw.txt\", sep = '\\t')\n",
    "TPC_data = pd.read_csv(\"gammagammaSigma_TPC_raw.txt\", sep = '\\t')"
   ]
  },
  {
   "cell_type": "code",
   "execution_count": 3,
   "metadata": {},
   "outputs": [
    {
     "data": {
      "text/html": [
       "<div>\n",
       "<style scoped>\n",
       "    .dataframe tbody tr th:only-of-type {\n",
       "        vertical-align: middle;\n",
       "    }\n",
       "\n",
       "    .dataframe tbody tr th {\n",
       "        vertical-align: top;\n",
       "    }\n",
       "\n",
       "    .dataframe thead th {\n",
       "        text-align: right;\n",
       "    }\n",
       "</style>\n",
       "<table border=\"1\" class=\"dataframe\">\n",
       "  <thead>\n",
       "    <tr style=\"text-align: right;\">\n",
       "      <th></th>\n",
       "      <th>W(GeV)</th>\n",
       "      <th>sigma(nb)</th>\n",
       "      <th>deltaSigma(nb)</th>\n",
       "      <th>deltaSigmaExp(nb)</th>\n",
       "      <th>deltaSigmaPHOJET(nb)</th>\n",
       "      <th>deltaSigmaPHYTIA(nb)</th>\n",
       "      <th>scaleUncertainty(%)</th>\n",
       "    </tr>\n",
       "  </thead>\n",
       "  <tbody>\n",
       "    <tr>\n",
       "      <td>0</td>\n",
       "      <td>6.7</td>\n",
       "      <td>397.2</td>\n",
       "      <td>0.5</td>\n",
       "      <td>30</td>\n",
       "      <td>28</td>\n",
       "      <td>-28</td>\n",
       "      <td>5</td>\n",
       "    </tr>\n",
       "    <tr>\n",
       "      <td>1</td>\n",
       "      <td>12.3</td>\n",
       "      <td>365.2</td>\n",
       "      <td>0.4</td>\n",
       "      <td>19</td>\n",
       "      <td>4</td>\n",
       "      <td>-4</td>\n",
       "      <td>5</td>\n",
       "    </tr>\n",
       "    <tr>\n",
       "      <td>2</td>\n",
       "      <td>22.7</td>\n",
       "      <td>354.4</td>\n",
       "      <td>0.5</td>\n",
       "      <td>12</td>\n",
       "      <td>-14</td>\n",
       "      <td>14</td>\n",
       "      <td>5</td>\n",
       "    </tr>\n",
       "    <tr>\n",
       "      <td>3</td>\n",
       "      <td>37.8</td>\n",
       "      <td>374.8</td>\n",
       "      <td>0.8</td>\n",
       "      <td>8</td>\n",
       "      <td>-26</td>\n",
       "      <td>26</td>\n",
       "      <td>5</td>\n",
       "    </tr>\n",
       "    <tr>\n",
       "      <td>4</td>\n",
       "      <td>54.8</td>\n",
       "      <td>411.5</td>\n",
       "      <td>1.1</td>\n",
       "      <td>7</td>\n",
       "      <td>-37</td>\n",
       "      <td>37</td>\n",
       "      <td>5</td>\n",
       "    </tr>\n",
       "    <tr>\n",
       "      <td>5</td>\n",
       "      <td>80.2</td>\n",
       "      <td>470.3</td>\n",
       "      <td>1.4</td>\n",
       "      <td>13</td>\n",
       "      <td>-49</td>\n",
       "      <td>49</td>\n",
       "      <td>5</td>\n",
       "    </tr>\n",
       "    <tr>\n",
       "      <td>6</td>\n",
       "      <td>120.4</td>\n",
       "      <td>572.0</td>\n",
       "      <td>3.3</td>\n",
       "      <td>53</td>\n",
       "      <td>-89</td>\n",
       "      <td>89</td>\n",
       "      <td>5</td>\n",
       "    </tr>\n",
       "    <tr>\n",
       "      <td>7</td>\n",
       "      <td>158.7</td>\n",
       "      <td>734.1</td>\n",
       "      <td>8.7</td>\n",
       "      <td>102</td>\n",
       "      <td>-202</td>\n",
       "      <td>202</td>\n",
       "      <td>5</td>\n",
       "    </tr>\n",
       "  </tbody>\n",
       "</table>\n",
       "</div>"
      ],
      "text/plain": [
       "   W(GeV)  sigma(nb)  deltaSigma(nb)  deltaSigmaExp(nb)  deltaSigmaPHOJET(nb)  \\\n",
       "0     6.7      397.2             0.5                 30                    28   \n",
       "1    12.3      365.2             0.4                 19                     4   \n",
       "2    22.7      354.4             0.5                 12                   -14   \n",
       "3    37.8      374.8             0.8                  8                   -26   \n",
       "4    54.8      411.5             1.1                  7                   -37   \n",
       "5    80.2      470.3             1.4                 13                   -49   \n",
       "6   120.4      572.0             3.3                 53                   -89   \n",
       "7   158.7      734.1             8.7                102                  -202   \n",
       "\n",
       "   deltaSigmaPHYTIA(nb)  scaleUncertainty(%)  \n",
       "0                   -28                    5  \n",
       "1                    -4                    5  \n",
       "2                    14                    5  \n",
       "3                    26                    5  \n",
       "4                    37                    5  \n",
       "5                    49                    5  \n",
       "6                    89                    5  \n",
       "7                   202                    5  "
      ]
     },
     "execution_count": 3,
     "metadata": {},
     "output_type": "execute_result"
    }
   ],
   "source": [
    "L3_data"
   ]
  },
  {
   "cell_type": "code",
   "execution_count": 4,
   "metadata": {},
   "outputs": [
    {
     "data": {
      "text/html": [
       "<div>\n",
       "<style scoped>\n",
       "    .dataframe tbody tr th:only-of-type {\n",
       "        vertical-align: middle;\n",
       "    }\n",
       "\n",
       "    .dataframe tbody tr th {\n",
       "        vertical-align: top;\n",
       "    }\n",
       "\n",
       "    .dataframe thead th {\n",
       "        text-align: right;\n",
       "    }\n",
       "</style>\n",
       "<table border=\"1\" class=\"dataframe\">\n",
       "  <thead>\n",
       "    <tr style=\"text-align: right;\">\n",
       "      <th></th>\n",
       "      <th>Wmin(GeV)</th>\n",
       "      <th>Wmax(GeV)</th>\n",
       "      <th>sigma(nb)</th>\n",
       "      <th>Errorp</th>\n",
       "      <th>Errorm</th>\n",
       "    </tr>\n",
       "  </thead>\n",
       "  <tbody>\n",
       "    <tr>\n",
       "      <td>0</td>\n",
       "      <td>10</td>\n",
       "      <td>20</td>\n",
       "      <td>362</td>\n",
       "      <td>38</td>\n",
       "      <td>35</td>\n",
       "    </tr>\n",
       "    <tr>\n",
       "      <td>1</td>\n",
       "      <td>20</td>\n",
       "      <td>35</td>\n",
       "      <td>372</td>\n",
       "      <td>40</td>\n",
       "      <td>40</td>\n",
       "    </tr>\n",
       "    <tr>\n",
       "      <td>2</td>\n",
       "      <td>35</td>\n",
       "      <td>55</td>\n",
       "      <td>414</td>\n",
       "      <td>42</td>\n",
       "      <td>41</td>\n",
       "    </tr>\n",
       "    <tr>\n",
       "      <td>3</td>\n",
       "      <td>55</td>\n",
       "      <td>80</td>\n",
       "      <td>439</td>\n",
       "      <td>45</td>\n",
       "      <td>41</td>\n",
       "    </tr>\n",
       "    <tr>\n",
       "      <td>4</td>\n",
       "      <td>80</td>\n",
       "      <td>110</td>\n",
       "      <td>464</td>\n",
       "      <td>76</td>\n",
       "      <td>62</td>\n",
       "    </tr>\n",
       "  </tbody>\n",
       "</table>\n",
       "</div>"
      ],
      "text/plain": [
       "   Wmin(GeV)  Wmax(GeV)  sigma(nb)  Errorp  Errorm\n",
       "0         10         20        362      38      35\n",
       "1         20         35        372      40      40\n",
       "2         35         55        414      42      41\n",
       "3         55         80        439      45      41\n",
       "4         80        110        464      76      62"
      ]
     },
     "execution_count": 4,
     "metadata": {},
     "output_type": "execute_result"
    }
   ],
   "source": [
    "OPAL_data"
   ]
  },
  {
   "cell_type": "code",
   "execution_count": 5,
   "metadata": {},
   "outputs": [
    {
     "data": {
      "text/html": [
       "<div>\n",
       "<style scoped>\n",
       "    .dataframe tbody tr th:only-of-type {\n",
       "        vertical-align: middle;\n",
       "    }\n",
       "\n",
       "    .dataframe tbody tr th {\n",
       "        vertical-align: top;\n",
       "    }\n",
       "\n",
       "    .dataframe thead th {\n",
       "        text-align: right;\n",
       "    }\n",
       "</style>\n",
       "<table border=\"1\" class=\"dataframe\">\n",
       "  <thead>\n",
       "    <tr style=\"text-align: right;\">\n",
       "      <th></th>\n",
       "      <th>W(GeV)</th>\n",
       "      <th>Wmin(GeV)</th>\n",
       "      <th>Wmax(GeV)</th>\n",
       "      <th>sigma(nb)</th>\n",
       "      <th>Errorp</th>\n",
       "      <th>Errorm</th>\n",
       "    </tr>\n",
       "  </thead>\n",
       "  <tbody>\n",
       "    <tr>\n",
       "      <td>0</td>\n",
       "      <td>2.5</td>\n",
       "      <td>2.0</td>\n",
       "      <td>3.0</td>\n",
       "      <td>471.0</td>\n",
       "      <td>12.0</td>\n",
       "      <td>12.0</td>\n",
       "    </tr>\n",
       "    <tr>\n",
       "      <td>1</td>\n",
       "      <td>3.5</td>\n",
       "      <td>3.0</td>\n",
       "      <td>4.0</td>\n",
       "      <td>479.0</td>\n",
       "      <td>16.0</td>\n",
       "      <td>16.0</td>\n",
       "    </tr>\n",
       "    <tr>\n",
       "      <td>2</td>\n",
       "      <td>5.0</td>\n",
       "      <td>4.0</td>\n",
       "      <td>6.0</td>\n",
       "      <td>408.0</td>\n",
       "      <td>16.0</td>\n",
       "      <td>16.0</td>\n",
       "    </tr>\n",
       "    <tr>\n",
       "      <td>3</td>\n",
       "      <td>7.0</td>\n",
       "      <td>6.0</td>\n",
       "      <td>8.0</td>\n",
       "      <td>331.0</td>\n",
       "      <td>24.0</td>\n",
       "      <td>24.0</td>\n",
       "    </tr>\n",
       "    <tr>\n",
       "      <td>4</td>\n",
       "      <td>9.0</td>\n",
       "      <td>8.0</td>\n",
       "      <td>10.0</td>\n",
       "      <td>391.0</td>\n",
       "      <td>24.0</td>\n",
       "      <td>24.0</td>\n",
       "    </tr>\n",
       "  </tbody>\n",
       "</table>\n",
       "</div>"
      ],
      "text/plain": [
       "   W(GeV)  Wmin(GeV)  Wmax(GeV)  sigma(nb)  Errorp  Errorm\n",
       "0     2.5        2.0        3.0      471.0    12.0    12.0\n",
       "1     3.5        3.0        4.0      479.0    16.0    16.0\n",
       "2     5.0        4.0        6.0      408.0    16.0    16.0\n",
       "3     7.0        6.0        8.0      331.0    24.0    24.0\n",
       "4     9.0        8.0       10.0      391.0    24.0    24.0"
      ]
     },
     "execution_count": 5,
     "metadata": {},
     "output_type": "execute_result"
    }
   ],
   "source": [
    "TPC_data"
   ]
  },
  {
   "cell_type": "code",
   "execution_count": 6,
   "metadata": {},
   "outputs": [],
   "source": [
    "# Make OPAL table be like TPC_data\n",
    "OPAL_data.insert(0,\"W(GeV)\",0.5*(OPAL_data[\"Wmin(GeV)\"]+OPAL_data[\"Wmax(GeV)\"]))\n",
    "# Compute Upper WError and Lower WError and add this columns to OPAL_data\n",
    "OPAL_data.insert(1,\"WErrorp\", OPAL_data[\"Wmax(GeV)\"]-OPAL_data[\"W(GeV)\"])\n",
    "OPAL_data.insert(2,\"WErrorm\", OPAL_data[\"W(GeV)\"]-OPAL_data[\"Wmin(GeV)\"])\n",
    "# Drop the columns with the minimum and maximum value of W\n",
    "OPAL_data = OPAL_data.drop(columns=['Wmin(GeV)', 'Wmax(GeV)'])\n",
    "# Repeat last three steps to TPC_data\n",
    "TPC_data.insert(1,\"WErrorp\", TPC_data[\"Wmax(GeV)\"]-TPC_data[\"W(GeV)\"])\n",
    "TPC_data.insert(2,\"WErrorm\", TPC_data[\"W(GeV)\"]-TPC_data[\"Wmin(GeV)\"])\n",
    "TPC_data = TPC_data.drop(columns=['Wmin(GeV)', 'Wmax(GeV)'])"
   ]
  },
  {
   "cell_type": "code",
   "execution_count": 7,
   "metadata": {},
   "outputs": [],
   "source": [
    "# L3 data processing\n",
    "L3_processed = pd.DataFrame({\"W(GeV)\": L3_data[\"W(GeV)\"],\n",
    "                           \"WErrorp\": np.zeros(len(L3_data[\"W(GeV)\"])),\n",
    "                           \"WErrorm\": np.zeros(len(L3_data[\"W(GeV)\"])),\n",
    "                           \"sigma(nb)\":L3_data[\"sigma(nb)\"]})\n",
    "deltaSigma = L3_data[\"deltaSigma(nb)\"]**2+L3_data[\"deltaSigmaExp(nb)\"]**2\n",
    "deltaSigma += (0.05*L3_data[\"sigma(nb)\"])**2\n",
    "deltaSigma = np.sqrt(deltaSigma)\n",
    "L3_processed[\"Errorp\"] = deltaSigma\n",
    "L3_processed[\"Errorm\"] = deltaSigma\n",
    "# L3 data with PHOJET unfolding\n",
    "L3_data_PHOJET = pd.DataFrame({\"W(GeV)\" : L3_data[\"W(GeV)\"],\n",
    "                              \"WErrorp\": np.zeros(len(L3_data[\"W(GeV)\"])),\n",
    "                              \"WErrorm\": np.zeros(len(L3_data[\"W(GeV)\"])),\n",
    "                              \"sigma(nb)\": L3_data[\"sigma(nb)\"] + L3_data[\"deltaSigmaPHOJET(nb)\"]})\n",
    "# Compute the uncertainty related with PHOJET unfolding result\n",
    "deltaSigma_PHOJET = L3_data[\"deltaSigma(nb)\"]**2+L3_data[\"deltaSigmaExp(nb)\"]**2\n",
    "deltaSigma_PHOJET += (0.05*L3_data_PHOJET[\"sigma(nb)\"])**2\n",
    "deltaSigma_PHOJET = np.sqrt(deltaSigma_PHOJET)\n",
    "L3_data_PHOJET[\"Errorp\"] = deltaSigma_PHOJET\n",
    "L3_data_PHOJET[\"Errorm\"] = deltaSigma_PHOJET\n",
    "# L3 data with PHYTIA unfolding\n",
    "L3_data_PHYTIA = pd.DataFrame({\"W(GeV)\" : L3_data[\"W(GeV)\"],\n",
    "                              \"WErrorp\": np.zeros(len(L3_data[\"W(GeV)\"])),\n",
    "                              \"WErrorm\": np.zeros(len(L3_data[\"W(GeV)\"])),\n",
    "                              \"sigma(nb)\": L3_data[\"sigma(nb)\"] + L3_data[\"deltaSigmaPHYTIA(nb)\"]})\n",
    "# Compute the uncertainty related with PHYTIA unfolding result\n",
    "deltaSigma_PHYTIA = L3_data[\"deltaSigma(nb)\"]**2+L3_data[\"deltaSigmaExp(nb)\"]**2\n",
    "deltaSigma_PHYTIA += (0.05*L3_data_PHYTIA[\"sigma(nb)\"])**2\n",
    "deltaSigma_PHYTIA = np.sqrt(deltaSigma_PHYTIA)\n",
    "L3_data_PHYTIA[\"Errorp\"] = deltaSigma_PHYTIA\n",
    "L3_data_PHYTIA[\"Errorm\"] = deltaSigma_PHYTIA"
   ]
  },
  {
   "cell_type": "code",
   "execution_count": 13,
   "metadata": {},
   "outputs": [],
   "source": [
    "def plotGammaGammaSigma(data_list, data_list_labels):\n",
    "    \"\"\"\n",
    "        Makes a plot of the experimental points contained in data_list.\n",
    "        data_list is a list of pandas DataFrames.\n",
    "        Each DataFrame has the columns 'W(GeV)', 'WErrorp', 'WErrorm', 'sigma(nb)', 'Errorp', 'Errorm'\n",
    "        W(GeV) is the independent variable and sigma(nb) is the dependent variable\n",
    "        WErrorp and WErrorm specify the range of the independent variable.\n",
    "        Errorp and Errorm specify the range of the dependent variable.\n",
    "        data_list_labels: list of strings that specify the source of data in each DataFrame contained in data_list\n",
    "    \"\"\"\n",
    "    # n is the number of data_frames in data_list\n",
    "    n = len(data_list)\n",
    "    for i in range(n):\n",
    "        # For each dataset make the error bar plot\n",
    "        plt.errorbar(data_list[i][\"W(GeV)\"], data_list[i][\"sigma(nb)\"], \n",
    "                     xerr = [data_list[i][\"WErrorm\"],data_list[i][\"WErrorp\"]],\n",
    "                     yerr = [data_list[i][\"Errorm\"],data_list[i][\"Errorp\"]],\n",
    "                     fmt='o',label = data_list_labels[i])\n",
    "    # Add labels\n",
    "    plt.xlabel(\"W(GeV)\")\n",
    "    plt.ylabel(r'$\\sigma(\\gamma\\gamma \\to hadrons)$(nb)')\n",
    "    plt.ylim(250,1400)\n",
    "    plt.legend(loc = \"upper left\")\n",
    "    plt.show()    "
   ]
  },
  {
   "cell_type": "code",
   "execution_count": 14,
   "metadata": {},
   "outputs": [
    {
     "data": {
      "image/png": "[encoded data removed]",
      "text/plain": [
       "<Figure size 432x288 with 1 Axes>"
      ]
     },
     "metadata": {
      "needs_background": "light"
     },
     "output_type": "display_data"
    }
   ],
   "source": [
    "plotGammaGammaSigma([TPC_data, OPAL_data, L3_processed], [\"TPC\", \"OPAL\", \"L3\"])"
   ]
  },
  {
   "cell_type": "code",
   "execution_count": 15,
   "metadata": {},
   "outputs": [
    {
     "data": {
      "image/png": "[encoded data removed]",
      "text/plain": [
       "<Figure size 432x288 with 1 Axes>"
      ]
     },
     "metadata": {
      "needs_background": "light"
     },
     "output_type": "display_data"
    }
   ],
   "source": [
    "plotGammaGammaSigma([TPC_data, OPAL_data, L3_data_PHYTIA], [\"TPC\", \"OPAL\", \"L3-PHYTIA\"])"
   ]
  },
  {
   "cell_type": "code",
   "execution_count": 16,
   "metadata": {},
   "outputs": [
    {
     "data": {
      "image/png": "[encoded data removed]",
      "text/plain": [
       "<Figure size 432x288 with 1 Axes>"
      ]
     },
     "metadata": {
      "needs_background": "light"
     },
     "output_type": "display_data"
    }
   ],
   "source": [
    "plotGammaGammaSigma([TPC_data, OPAL_data, L3_data_PHOJET], [\"TPC\", \"OPAL\", \"L3-PHOJET\"])"
   ]
  },
  {
   "cell_type": "code",
   "execution_count": 17,
   "metadata": {},
   "outputs": [
    {
     "data": {
      "image/png": "[encoded data removed]",
      "text/plain": [
       "<Figure size 432x288 with 1 Axes>"
      ]
     },
     "metadata": {
      "needs_background": "light"
     },
     "output_type": "display_data"
    }
   ],
   "source": [
    "plotGammaGammaSigma([TPC_data, OPAL_data, L3_processed, L3_data_PHOJET, L3_data_PHYTIA],\n",
    "                    [\"TPC\", \"OPAL\", \"L3\", \"L3-PHOJET\", \"L3-PHYTIA\"])"
   ]
  },
  {
   "cell_type": "code",
   "execution_count": null,
   "metadata": {},
   "outputs": [],
   "source": [
    "def sigmaSoftPomeron(W, a, b):\n",
    "    \"\"\"\n",
    "        Computes the total cross section of gamma gamma -> Hadrons\n",
    "        using the Soft Pomeron Kernel of arXiv:1508.00008.\n",
    "        The cross section is given by a s^(j0 - 1) + b * s^(j1 - 1),\n",
    "        where j0 and j1 are the intercepts of the first and second\n",
    "        Regge trajectories of the Soft Pomeron Kerne and s = W^2\n",
    "    \"\"\"\n",
    "    # Define the intercepts of the Soft Pomeron Kernel\n",
    "    j0 = 0 \n",
    "    j1 = 0\n",
    "    # s = W^2\n",
    "    s = W^2\n",
    "    sigma = a * s ** (j0 - 1) + b * s ** (j1 -1)\n",
    "    return sigma"
   ]
  }
 ],
 "metadata": {
  "kernelspec": {
   "display_name": "Python 3",
   "language": "python",
   "name": "python3"
  },
  "language_info": {
   "codemirror_mode": {
    "name": "ipython",
    "version": 3
   },
   "file_extension": ".py",
   "mimetype": "text/x-python",
   "name": "python",
   "nbconvert_exporter": "python",
   "pygments_lexer": "ipython3",
   "version": "3.7.4"
  }
 },
 "nbformat": 4,
 "nbformat_minor": 2
}
