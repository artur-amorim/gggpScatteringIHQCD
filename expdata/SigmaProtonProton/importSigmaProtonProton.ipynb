{
 "cells": [
  {
   "cell_type": "code",
   "execution_count": 1,
   "metadata": {},
   "outputs": [],
   "source": [
    "# import numpy, pandas and matplotlib\n",
    "import numpy as np\n",
    "import pandas as pd\n",
    "import matplotlib.pyplot as plt\n",
    "# import minimize\n",
    "from scipy.optimize import minimize"
   ]
  },
  {
   "cell_type": "code",
   "execution_count": 2,
   "metadata": {},
   "outputs": [],
   "source": [
    "# Function that converts pLab in sqrt(s)\n",
    "def computeSqrts(pLab):\n",
    "    \"\"\"\n",
    "        Given the magnitude of the proton beam momentum this function\n",
    "        computes the respetive sqrt(s).\n",
    "        The proton beam four momentum is (sqrt(mp**2+pLab**2), 0, 0, pLab)\n",
    "        The proton four momentum is (mp,0,0,0) because it is at rest\n",
    "        Then s = (p_gamma + mp)^2 - p_gamma^2\n",
    "    \"\"\"\n",
    "    mp = 0.938\n",
    "    # mass of the proton is 0.938 GeV\n",
    "    return np.sqrt((mp+np.sqrt(mp*mp+pLab*pLab))**2-pLab*pLab)"
   ]
  },
  {
   "cell_type": "code",
   "execution_count": 3,
   "metadata": {},
   "outputs": [],
   "source": [
    "# First we process the raw data into a new file format that can be read easily by pandas\n",
    "f = open(\"SigmaProtonProton_raw.txt\", \"r\")\n",
    "new_f = open(\"SigmaProtonProton_new_raw.txt\", \"w\")\n",
    "string = f.readline()\n",
    "while string != '':\n",
    "    line_list = string.split()\n",
    "    ref_list = line_list[9:]\n",
    "    line_list = line_list[:9]\n",
    "    new_line = '\\t'.join(line_list)\n",
    "    ref_string = \" \".join(ref_list)\n",
    "    new_f.write(new_line+'\\t' + ref_string + '\\n')\n",
    "    string = f.readline()\n",
    "f.close()\n",
    "new_f.close()"
   ]
  },
  {
   "cell_type": "code",
   "execution_count": 4,
   "metadata": {},
   "outputs": [],
   "source": [
    "def loadSigmaProtonProtonData(file_name, pLab_Min, pLab_Max, output_file_name):\n",
    "    \"\"\"\n",
    "        Loads the PDG data contained in the file file_name.\n",
    "        Then it selects only the experimental points with\n",
    "        pLab_MIN < pLab < pLab_MAX.\n",
    "        Then creates an output file with the following columns\n",
    "        [\"W(GeV)\", \"WErrorp\", \"WErrorm\", \"sigma(nb)\", \"Errorp\", \"Errorm\"]\n",
    "        The Errorp and Errorm will be equal and are given by\n",
    "        sqrt(stat_error**2 + syst_error**2). The stat_error and syst_error values\n",
    "        are assumed to be the average of the corresponding plus and minus errors.\n",
    "    \"\"\"\n",
    "    # Load raw data\n",
    "    exp_data_raw = pd.read_csv(file_name, sep = '\\t')\n",
    "    condition = (exp_data_raw[\"PLAB(GEV/C)\"] > pLab_Min) & (exp_data_raw[\"PLAB(GEV/C)\"] < pLab_Max)\n",
    "    # Read pLab values as well their minimum and maximum values\n",
    "    pLab_vals = np.array(exp_data_raw[condition][\"PLAB(GEV/C)\"])\n",
    "    pLab_min_vals = np.array(exp_data_raw[condition][\"PLAB_MIN\"])\n",
    "    pLab_max_vals = np.array(exp_data_raw[condition][\"PLAB_MAX\"])\n",
    "    # Convert the pLab values into sqrt(s) values\n",
    "    sqrtS_vals = computeSqrts(pLab_vals)\n",
    "    sqrtS_min_vals = computeSqrts(pLab_min_vals)\n",
    "    sqrtS_max_vals = computeSqrts(pLab_max_vals)\n",
    "    sqrtS_err_plus = sqrtS_max_vals - sqrtS_vals\n",
    "    sqrtS_err_minus = sqrtS_vals - sqrtS_min_vals\n",
    "    # Read cross-section values\n",
    "    sigma_vals = np.array(exp_data_raw[condition][\"SIG(MB)\"])\n",
    "    # Compute the statistical error as the average of STA_ERR+ and STA_ERR-\n",
    "    stat_error_plus = np.array(exp_data_raw[condition][\"STA_ERR+\"])\n",
    "    stat_error_minus = np.array(exp_data_raw[condition][\"STA_ERR-\"])\n",
    "    stat_error = 0.5 * (stat_error_plus + stat_error_minus)\n",
    "    # Compute the systematic error as the average of STA_ERR+ and STA_ERR-\n",
    "    syst_error_plus = sigma_vals * np.array(exp_data_raw[condition][\"SY_ER+(PCT)\"]) / 100.0\n",
    "    syst_error_minus = sigma_vals * np.array(exp_data_raw[condition][\"SY_ER-(PCT)\"]) / 100.0\n",
    "    syst_error = 0.5 * (syst_error_plus + syst_error_minus)\n",
    "    # Compute the total error as sqrt(stat_error**2 + syst_error**2)\n",
    "    error_vals = np.sqrt(stat_error**2 + syst_error**2)\n",
    "    # Create new data frame with columns [\"sqrtS\", \"sqrtSErrorPlus\", \"sqrtSErrorMinus\", \"sigma\", \"Errorp\", \"Errorm\"]\n",
    "    exp_data = pd.DataFrame({\"W(GeV)\":sqrtS_vals, \"WErrorp\":sqrtS_err_plus, \"WErrorm\":sqrtS_err_minus,\n",
    "                        \"sigma(mb)\":sigma_vals, \"Errorp\":error_vals, \"Errorm\": error_vals})\n",
    "    exp_data.to_csv(output_file_name, sep ='\\t', index = False)"
   ]
  },
  {
   "cell_type": "code",
   "execution_count": 5,
   "metadata": {},
   "outputs": [],
   "source": [
    "# Create a dataset with sqrt(s) < 386 GeV\n",
    "loadSigmaProtonProtonData(\"SigmaProtonProton_new_raw.txt\", 10, 10**7, \"SigmaProtonProton_data_W_lt_386.txt\")\n",
    "# Create a dataset with 10 < sqrt(s) < 386 GeV\n",
    "loadSigmaProtonProtonData(\"SigmaProtonProton_new_raw.txt\", 52.3585, 10**7, \"SigmaProtonProton_data_10_lt_W_lt_386.txt\")\n",
    "# Create a dataset with sqrt(s) < 10 TeV (to include LHC data)\n",
    "loadSigmaProtonProtonData(\"SigmaProtonProton_new_raw.txt\", 10, 5*10**7, \"SigmaProtonProton_data_W_lt_10000.txt\")\n",
    "# Create a dataset with 10 GeV < sqrt(s) < 10 TeV (to include LHC data)\n",
    "loadSigmaProtonProtonData(\"SigmaProtonProton_new_raw.txt\", 52.3585, 5*10**7, \"SigmaProtonProton_data_10_lt_W_lt_10000.txt\")\n",
    "# Create a dataset with sqrt(s) <= 14 TeV (to include LHC data)\n",
    "loadSigmaProtonProtonData(\"SigmaProtonProton_new_raw.txt\", 4, 10**10, \"SigmaProtonProton_data.txt\")"
   ]
  },
  {
   "cell_type": "code",
   "execution_count": 6,
   "metadata": {},
   "outputs": [],
   "source": [
    "def plotExpData(data_file):\n",
    "    \"\"\"\n",
    "        Plots the experimental data contained in the file data_file.\n",
    "    \"\"\"\n",
    "    # Read the file\n",
    "    exp_data = pd.read_csv(data_file, sep ='\\t')\n",
    "    sqrtS_vals = np.array(exp_data[\"W(GeV)\"])\n",
    "    sigma_vals = np.array(exp_data[\"sigma(mb)\"])\n",
    "    error_vals = 0.5*(np.array(exp_data[\"Errorp\"])+np.array(exp_data[\"Errorm\"]))\n",
    "    plt.errorbar(sqrtS_vals, sigma_vals, error_vals, fmt='o', markersize=0.5)\n",
    "    plt.xlabel(r'$\\sqrt{s}$')\n",
    "    plt.xlim(1,10**6)\n",
    "    plt.ylabel(r'$\\sigma(mb)$')\n",
    "    plt.xscale(\"log\")"
   ]
  },
  {
   "cell_type": "code",
   "execution_count": 7,
   "metadata": {},
   "outputs": [
    {
     "data": {
      "image/png": "[encoded data removed]",
      "text/plain": [
       "<Figure size 432x288 with 1 Axes>"
      ]
     },
     "metadata": {
      "needs_background": "light"
     },
     "output_type": "display_data"
    }
   ],
   "source": [
    "plotExpData(\"SigmaProtonProton_data_W_lt_386.txt\")"
   ]
  },
  {
   "cell_type": "code",
   "execution_count": 8,
   "metadata": {},
   "outputs": [
    {
     "data": {
      "image/png": "[encoded data removed]",
      "text/plain": [
       "<Figure size 432x288 with 1 Axes>"
      ]
     },
     "metadata": {
      "needs_background": "light"
     },
     "output_type": "display_data"
    }
   ],
   "source": [
    "plotExpData(\"SigmaProtonProton_data_W_lt_10000.txt\")"
   ]
  },
  {
   "cell_type": "code",
   "execution_count": 9,
   "metadata": {},
   "outputs": [
    {
     "data": {
      "image/png": "[encoded data removed]",
      "text/plain": [
       "<Figure size 432x288 with 1 Axes>"
      ]
     },
     "metadata": {
      "needs_background": "light"
     },
     "output_type": "display_data"
    }
   ],
   "source": [
    "plotExpData(\"SigmaProtonProton_data.txt\")"
   ]
  },
  {
   "cell_type": "code",
   "execution_count": 10,
   "metadata": {},
   "outputs": [
    {
     "data": {
      "image/png": "[encoded data removed]",
      "text/plain": [
       "<Figure size 432x288 with 1 Axes>"
      ]
     },
     "metadata": {
      "needs_background": "light"
     },
     "output_type": "display_data"
    }
   ],
   "source": [
    "plotExpData(\"SigmaProtonProton_data_10_lt_W_lt_386.txt\")"
   ]
  },
  {
   "cell_type": "code",
   "execution_count": 11,
   "metadata": {},
   "outputs": [
    {
     "data": {
      "image/png": "[encoded data removed]",
      "text/plain": [
       "<Figure size 432x288 with 1 Axes>"
      ]
     },
     "metadata": {
      "needs_background": "light"
     },
     "output_type": "display_data"
    }
   ],
   "source": [
    "plotExpData(\"SigmaProtonProton_data_10_lt_W_lt_10000.txt\")"
   ]
  },
  {
   "cell_type": "code",
   "execution_count": 12,
   "metadata": {},
   "outputs": [],
   "source": [
    "def sigmaPredUnvec(s,a,b,c,d):\n",
    "    j1 = 1.17144\n",
    "    j2 = 1.08301\n",
    "    j3 = 0.974516\n",
    "    j4 = 0.912894\n",
    "    return a*s**(j1-1) + b*s**(j2-1) + c*s**(j3-1) + d*s**(j4-1)\n",
    "\n",
    "sigmaPred = np.vectorize(sigmaPredUnvec)\n",
    "\n",
    "def chi2(x, data):\n",
    "    a = x[0]\n",
    "    b = x[1]\n",
    "    c = x[2]\n",
    "    d = x[3]\n",
    "    W = np.array(data[\"W(GeV)\"])\n",
    "    Wplus = W + np.array(data[\"WErrorp\"])\n",
    "    Wminus = W - np.array(data[\"WErrorm\"])\n",
    "    sigma_pred = sigmaPred(W*W, a, b, c, d)\n",
    "    sigma_pred_plus = sigmaPred(Wplus*Wplus, a, b, c, d)\n",
    "    sigma_pred_minus = sigmaPred(Wminus*Wminus, a, b, c, d)\n",
    "    delta_sigma_pred = np.maximum(np.absolute(sigma_pred_plus - sigma_pred), np.absolute(sigma_pred - sigma_pred_minus))\n",
    "    sigma_err = 0.5*(np.array(data[\"Errorp\"])+np.array(data[\"Errorm\"]))\n",
    "    sigma_exp = np.array(data[\"sigma(mb)\"])\n",
    "    delta_sigma = np.sqrt(sigma_err*sigma_err + delta_sigma_pred * delta_sigma_pred)\n",
    "    chi2 = np.sum(((sigma_pred - sigma_exp)/delta_sigma)**2)\n",
    "    return chi2\n"
   ]
  },
  {
   "cell_type": "code",
   "execution_count": 13,
   "metadata": {},
   "outputs": [
    {
     "name": "stdout",
     "output_type": "stream",
     "text": [
      "[ 2.71941449  7.49611288 10.34822974 17.48558196]\n",
      "1.3609566656200323\n"
     ]
    }
   ],
   "source": [
    "# Let's find the best fit for 10 < W < 10000 GeV\n",
    "x0 = [0, 0, 0, 0]\n",
    "exp_data = pd.read_csv(\"SigmaProtonProton_data_10_lt_W_lt_10000.txt\", sep ='\\t')\n",
    "best_fit_x = minimize(chi2, x0, args = exp_data, method = \"Nelder-Mead\").x\n",
    "chi2_ndof = chi2(best_fit_x, exp_data) / (len(exp_data) - 4)\n",
    "print(best_fit_x)\n",
    "print(chi2_ndof)"
   ]
  },
  {
   "cell_type": "code",
   "execution_count": 14,
   "metadata": {},
   "outputs": [
    {
     "name": "stdout",
     "output_type": "stream",
     "text": [
      "[ 2.80029611  6.64768104 13.87482822 14.36079942]\n",
      "1.3978651078026811\n"
     ]
    }
   ],
   "source": [
    "# convert c++ result because here we fitted sigma in units of mb while in the c++ code we fitted to GeV^-2 units\n",
    "GEV_MINUS_2_pars = np.array([7.19131,17.0716,35.6313,36.8793])\n",
    "mb_pars = GEV_MINUS_2_pars * 3.894 / 10\n",
    "chi2_ndof = chi2(mb_pars, exp_data) / (len(exp_data) - 4)\n",
    "print(mb_pars)\n",
    "print(chi2_ndof)"
   ]
  },
  {
   "cell_type": "code",
   "execution_count": 17,
   "metadata": {},
   "outputs": [
    {
     "name": "stdout",
     "output_type": "stream",
     "text": [
      "[ 3.74732787  5.11653781  8.42998462 21.95400952]\n",
      "1.2296825014138928\n",
      "[ 9.62333813 13.1395424  21.64865079 56.37906912]\n"
     ]
    }
   ],
   "source": [
    "# Let's find the best fit for 10 < W < 386 GeV\n",
    "x0 = [0, 0, 0, 0]\n",
    "exp_data = pd.read_csv(\"SigmaProtonProton_data_10_lt_W_lt_386.txt\", sep ='\\t')\n",
    "best_fit_x = minimize(chi2, x0, args = exp_data, method = \"Nelder-Mead\").x\n",
    "chi2_ndof = chi2(best_fit_x, exp_data) / (len(exp_data) - 4)\n",
    "print(best_fit_x)\n",
    "print(chi2_ndof)\n",
    "# Convert to the expectec c++ result\n",
    "print(best_fit_x * 10 / 3.894)"
   ]
  },
  {
   "cell_type": "code",
   "execution_count": null,
   "metadata": {},
   "outputs": [],
   "source": []
  }
 ],
 "metadata": {
  "kernelspec": {
   "display_name": "Python 3",
   "language": "python",
   "name": "python3"
  },
  "language_info": {
   "codemirror_mode": {
    "name": "ipython",
    "version": 3
   },
   "file_extension": ".py",
   "mimetype": "text/x-python",
   "name": "python",
   "nbconvert_exporter": "python",
   "pygments_lexer": "ipython3",
   "version": "3.7.4"
  }
 },
 "nbformat": 4,
 "nbformat_minor": 2
}
