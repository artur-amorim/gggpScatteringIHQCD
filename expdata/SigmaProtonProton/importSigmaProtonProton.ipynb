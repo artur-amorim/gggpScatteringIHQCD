{
 "cells": [
  {
   "cell_type": "code",
   "execution_count": 1,
   "metadata": {},
   "outputs": [],
   "source": [
    "# import numpy, pandas and matplotlib\n",
    "import numpy as np\n",
    "import pandas as pd\n",
    "import matplotlib.pyplot as plt"
   ]
  },
  {
   "cell_type": "code",
   "execution_count": 2,
   "metadata": {},
   "outputs": [],
   "source": [
    "# Function that converts pLab in sqrt(s)\n",
    "def computeSqrts(pLab):\n",
    "    \"\"\"\n",
    "        Given the magnitude of the proton beam momentum this function\n",
    "        computes the respetive sqrt(s).\n",
    "        The proton beam four momentum is (sqrt(mp**2+pLab**2), 0, 0, pLab)\n",
    "        The proton four momentum is (mp,0,0,0) because it is at rest\n",
    "        Then s = (p_gamma + mp)^2 - p_gamma^2\n",
    "    \"\"\"\n",
    "    mp = 0.938\n",
    "    # mass of the proton is 0.938 GeV\n",
    "    return np.sqrt((mp+np.sqrt(mp*mp+pLab*pLab))**2-pLab*pLab)"
   ]
  },
  {
   "cell_type": "code",
   "execution_count": 3,
   "metadata": {},
   "outputs": [],
   "source": [
    "# First we process the raw data into a new file format that can be read easily by pandas\n",
    "f = open(\"SigmaProtonProton_raw.txt\", \"r\")\n",
    "new_f = open(\"SigmaProtonProton_new_raw.txt\", \"w\")\n",
    "string = f.readline()\n",
    "while string != '':\n",
    "    line_list = string.split()\n",
    "    ref_list = line_list[9:]\n",
    "    line_list = line_list[:9]\n",
    "    new_line = '\\t'.join(line_list)\n",
    "    ref_string = \" \".join(ref_list)\n",
    "    new_f.write(new_line+'\\t' + ref_string + '\\n')\n",
    "    string = f.readline()\n",
    "f.close()\n",
    "new_f.close()"
   ]
  },
  {
   "cell_type": "code",
   "execution_count": 4,
   "metadata": {},
   "outputs": [],
   "source": [
    "# Read the new data file\n",
    "# Define a pLab threshold for the data\n",
    "pLabmin = 10\n",
    "pLabmax = 10**7\n",
    "exp_data_raw = pd.read_csv(\"SigmaProtonProton_new_raw.txt\", sep = '\\t')\n",
    "condition = (exp_data_raw[\"PLAB(GEV/C)\"] > pLabmin) & (exp_data_raw[\"PLAB(GEV/C)\"] < pLabmax)\n",
    "# Read pLab values as well their minimum and maximum values\n",
    "pLab_vals = np.array(exp_data_raw[condition][\"PLAB(GEV/C)\"])\n",
    "pLab_min_vals = np.array(exp_data_raw[condition][\"PLAB_MIN\"])\n",
    "pLab_max_vals = np.array(exp_data_raw[condition][\"PLAB_MAX\"])\n",
    "# Convert the pLab values into sqrt(s) values\n",
    "sqrtS_vals = computeSqrts(pLab_vals)\n",
    "sqrtS_min_vals = computeSqrts(pLab_min_vals)\n",
    "sqrtS_max_vals = computeSqrts(pLab_max_vals)\n",
    "sqrtS_err_plus = sqrtS_max_vals - sqrtS_vals\n",
    "sqrtS_err_minus = sqrtS_vals - sqrtS_min_vals\n",
    "# Read cross-section values\n",
    "sigma_vals = np.array(exp_data_raw[condition][\"SIG(MB)\"])\n",
    "# Compute the uncertainty of each point\n",
    "stat_error_plus = np.array(exp_data_raw[condition][\"STA_ERR+\"])\n",
    "stat_error_minus = np.array(exp_data_raw[condition][\"STA_ERR-\"])\n",
    "# Compute the statistical error as the average\n",
    "stat_error = 0.5 * (stat_error_plus + stat_error_minus)\n",
    "# Systematic errors come in percentage\n",
    "syst_error_plus = sigma_vals * np.array(exp_data_raw[condition][\"SY_ER+(PCT)\"]) / 100.0\n",
    "syst_error_minus = sigma_vals * np.array(exp_data_raw[condition][\"SY_ER-(PCT)\"]) / 100.0\n",
    "# Compute the systematic error as the average\n",
    "syst_error = 0.5 * (syst_error_plus + syst_error_minus)\n",
    "# Compute the total error as sqrt(stat_error**2 + syst_error**2)\n",
    "error_vals = np.sqrt(stat_error**2 + syst_error**2)\n",
    "# Create new data frame with columns [\"sqrtS\", \"sqrtSErrorPlus\", \"sqrtSErrorMinus\", \"sigma\", \"Errorp\", \"Errorm\"]\n",
    "exp_data = pd.DataFrame({\"W(GeV)\":sqrtS_vals, \"WErrorp\":sqrtS_err_plus, \"WErrorm\":sqrtS_err_minus,\n",
    "                        \"sigma(mb)\":sigma_vals, \"Errorp\":error_vals, \"Errorm\": error_vals})\n",
    "exp_data.to_csv(\"SigmaProtonProton_data.txt\", sep ='\\t', index = False)"
   ]
  },
  {
   "cell_type": "code",
   "execution_count": 5,
   "metadata": {},
   "outputs": [
    {
     "data": {
      "image/png": "[encoded data removed]",
      "text/plain": [
       "<Figure size 432x288 with 1 Axes>"
      ]
     },
     "metadata": {
      "needs_background": "light"
     },
     "output_type": "display_data"
    }
   ],
   "source": [
    "plt.errorbar(sqrtS_vals, sigma_vals, error_vals, fmt='o', markersize=0.5)\n",
    "plt.xlabel(r'$\\sqrt{s}$')\n",
    "plt.ylabel(r'$\\sigma(mb)$')\n",
    "plt.xlim(1,10**6)\n",
    "plt.xscale(\"log\")"
   ]
  },
  {
   "cell_type": "code",
   "execution_count": null,
   "metadata": {},
   "outputs": [],
   "source": []
  }
 ],
 "metadata": {
  "kernelspec": {
   "display_name": "Python 3",
   "language": "python",
   "name": "python3"
  },
  "language_info": {
   "codemirror_mode": {
    "name": "ipython",
    "version": 3
   },
   "file_extension": ".py",
   "mimetype": "text/x-python",
   "name": "python",
   "nbconvert_exporter": "python",
   "pygments_lexer": "ipython3",
   "version": "3.7.4"
  }
 },
 "nbformat": 4,
 "nbformat_minor": 2
}
